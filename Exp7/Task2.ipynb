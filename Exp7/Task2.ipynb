{
 "cells": [
  {
   "cell_type": "markdown",
   "id": "fb57c02c",
   "metadata": {},
   "source": [
    "## p 为梅森素数，群为 Zp*\n",
    "- p = 2^61 - 1"
   ]
  },
  {
   "cell_type": "code",
   "execution_count": 1,
   "id": "a80a3a57",
   "metadata": {},
   "outputs": [],
   "source": [
    "def mod_exp(base, exp, mod):\n",
    "    \"\"\"快速模幂计算 (base^exp % mod)\"\"\"\n",
    "    result = 1\n",
    "    base = base % mod\n",
    "    while exp > 0:\n",
    "        if exp % 2 == 1:\n",
    "            result = (result * base) % mod\n",
    "        exp = exp // 2\n",
    "        base = (base * base) % mod\n",
    "    return result"
   ]
  },
  {
   "cell_type": "code",
   "execution_count": 2,
   "id": "2002cca4",
   "metadata": {},
   "outputs": [
    {
     "name": "stdout",
     "output_type": "stream",
     "text": [
      "有限域乘法群 DH:\n",
      "Alice的私钥 x = 128231845321144448\n",
      "Alice的公钥 h_A = 336044809595302223\n",
      "Bob的私钥 y   = 1357511315409627098\n",
      "Bob的公钥 h_B = 852612687814681560\n",
      "共享密钥是否一致: True\n",
      "\n"
     ]
    }
   ],
   "source": [
    "import random\n",
    "\n",
    "p = (2**61) - 1  \n",
    "g = 5                 \n",
    "\n",
    "# Alice 步骤\n",
    "x = random.randint(1, p-2) \n",
    "h_A = mod_exp(g, x, p)    \n",
    "\n",
    "# Bob 步骤\n",
    "y = random.randint(1, p-2)  \n",
    "h_B = mod_exp(g, y, p)     \n",
    "k_B = mod_exp(h_A, y, p)    \n",
    "\n",
    "# Bob 发送 h_B 给 Alice\n",
    "k_A = mod_exp(h_B, x, p)    \n",
    "\n",
    "print(\"有限域乘法群 DH:\")\n",
    "print(f\"Alice的私钥 x = {x}\")\n",
    "print(f\"Alice的公钥 h_A = {h_A}\")\n",
    "print(f\"Bob的私钥 y   = {y}\")\n",
    "print(f\"Bob的公钥 h_B = {h_B}\")\n",
    "print(f\"共享密钥是否一致: {k_A == k_B}\\n\")"
   ]
  },
  {
   "cell_type": "markdown",
   "id": "9f3df3e5",
   "metadata": {},
   "source": [
    "## p 为大素数，群为 Zp* \n",
    "- p = 0xEEFC0B79D5FF2502BA4BC0C1BF86293C1B0495086E25C075C1391EC8DD3B1961"
   ]
  },
  {
   "cell_type": "code",
   "execution_count": 3,
   "id": "51202d5d",
   "metadata": {},
   "outputs": [
    {
     "name": "stdout",
     "output_type": "stream",
     "text": [
      "True\n"
     ]
    }
   ],
   "source": [
    "#def is_prime(n: int) -> bool:\n",
    "#    \"\"\"判断是否为素数\"\"\"\n",
    "#    if n <= 1:\n",
    "#        return False\n",
    "#    if n == 2:\n",
    "#        return True\n",
    "#    if n % 2 == 0:\n",
    "#        return False\n",
    "#    max_divisor = int(n ** 0.5) + 1\n",
    "#    for i in range(3, max_divisor, 2):\n",
    "#        if n % i == 0:\n",
    "#            return False\n",
    "#    return True\n",
    "#不推荐使用，请使用下面的方法：\n",
    "\n",
    "def is_prime(n, k=50):\n",
    "    \"\"\"使用Miller-Rabin素性测试检查n是否为素数\"\"\"\n",
    "    if n <= 1:\n",
    "        return False\n",
    "    if n <= 3:\n",
    "        return True\n",
    "    if n % 2 == 0:\n",
    "        return False\n",
    "    \n",
    "    # 将n-1表示为2^r * d\n",
    "    r, d = 0, n - 1\n",
    "    while d % 2 == 0:\n",
    "        r += 1\n",
    "        d //= 2\n",
    "    \n",
    "    # 进行k次测试\n",
    "    for _ in range(k):\n",
    "        a = random.randint(2, n - 2)\n",
    "        x = pow(a, d, n)\n",
    "        if x == 1 or x == n - 1:\n",
    "            continue\n",
    "        for _ in range(r - 1):\n",
    "            x = pow(x, 2, n)\n",
    "            if x == n - 1:\n",
    "                break\n",
    "        else:\n",
    "            return False\n",
    "    return True\n",
    "\n",
    "p = 0xEEFC0B79D5FF2502BA4BC0C1BF86293C1B0495086E25C075C1391EC8DD3B1961\n",
    "print(is_prime(p))"
   ]
  },
  {
   "cell_type": "code",
   "execution_count": 4,
   "id": "75c027fc",
   "metadata": {},
   "outputs": [
    {
     "name": "stdout",
     "output_type": "stream",
     "text": [
      "随机元素: 57984365836306167664704841346595451098093147465177523951412903043162349242304\n",
      "乘法群的一个生成元: 5\n"
     ]
    }
   ],
   "source": [
    "fp = GF(p)\n",
    "r = fp.random_element()\n",
    "print(f\"随机元素: {r}\")\n",
    "g = fp.multiplicative_generator()\n",
    "print(f\"乘法群的一个生成元: {g}\")"
   ]
  },
  {
   "cell_type": "code",
   "execution_count": 5,
   "id": "cafa9006",
   "metadata": {},
   "outputs": [
    {
     "name": "stdout",
     "output_type": "stream",
     "text": [
      "有限域乘法群 DH:\n",
      "Alice的私钥 x = 19577931351050065157720556590491825403728639148794812689898220141463699146880\n",
      "Alice的公钥 h_A = 71155964006876624059497791023550271693029252597885672084388029427770166710899\n",
      "Bob的私钥 y   = 38228205764630246868667336487866865525552351081125234061596190330323875853461\n",
      "Bob的公钥 h_B = 49273394571423802724648309010502490987548908255687432903402237051114772035431\n",
      "共享密钥是否一致: True\n",
      "\n"
     ]
    }
   ],
   "source": [
    "import random\n",
    "\n",
    "# Alice 步骤\n",
    "x = random.randint(1, p-2) \n",
    "h_A = mod_exp(g, x, p)    \n",
    "\n",
    "# Bob 步骤\n",
    "y = random.randint(1, p-2)  \n",
    "h_B = mod_exp(g, y, p)     \n",
    "k_B = mod_exp(h_A, y, p)    \n",
    "\n",
    "# Bob 发送 h_B 给 Alice\n",
    "k_A = mod_exp(h_B, x, p)    \n",
    "\n",
    "print(\"有限域乘法群 DH:\")\n",
    "print(f\"Alice的私钥 x = {x}\")\n",
    "print(f\"Alice的公钥 h_A = {h_A}\")\n",
    "print(f\"Bob的私钥 y   = {y}\")\n",
    "print(f\"Bob的公钥 h_B = {h_B}\")\n",
    "print(f\"共享密钥是否一致: {k_A == k_B}\\n\")"
   ]
  },
  {
   "cell_type": "markdown",
   "id": "1bf8178f",
   "metadata": {},
   "source": [
    "## 椭圆曲线群\n",
    "- P-256 参数"
   ]
  },
  {
   "cell_type": "code",
   "execution_count": 6,
   "id": "834308fd",
   "metadata": {},
   "outputs": [
    {
     "name": "stdout",
     "output_type": "stream",
     "text": [
      "随机点 R = (29158265598049434005416650500127191355924494711986095392256281105470088759891 : 52211006685353056933144255217327036450930237353842351677369036859294949233014 : 1)\n",
      "生成元点 G = (38764697308493389993546589472262590866107682806682771450105924429005322578970 : 112597290425349970187225006888153254041358622497584092630146848080355182942680 : 1)\n",
      "生成元点的阶是否为预期值: True\n"
     ]
    }
   ],
   "source": [
    "p = 0xFFFFFFFF00000001000000000000000000000000FFFFFFFFFFFFFFFFFFFFFFFF\n",
    "a = 0xFFFFFFFF00000001000000000000000000000000FFFFFFFFFFFFFFFFFFFFFFFC\n",
    "b = 0x5AC635D8AA3A93E7B3EBBD55769886BC651D06B0CC53B0F63BCE3C3E27D2604B\n",
    "Gx = 0x6B17D1F2E12C4247F8BCE6E563A440F277037D812DEB33A0F4A13945D898C296\n",
    "Gy = 0x4FE342E2FE1A7F9B8EE7EB4A7C0F9E162BCE33576B315ECECBB6406837BF51F5\n",
    "n = 0xFFFFFFFF00000000FFFFFFFFFFFFFFFFBCE6FAADA7179E84F3B9CAC2FC632551\n",
    "\n",
    "E = EllipticCurve(GF(p), [a, b])\n",
    "\n",
    "R = E.random_point()\n",
    "print(f\"随机点 R = {R}\")\n",
    "G = E.gens()[0]\n",
    "print(f\"生成元点 G = {G}\")\n",
    "print(f\"生成元点的阶是否为预期值: {G.order() == n}\")"
   ]
  },
  {
   "cell_type": "code",
   "execution_count": 7,
   "id": "c0cc8ff9",
   "metadata": {},
   "outputs": [
    {
     "name": "stdout",
     "output_type": "stream",
     "text": [
      "Alice的私钥: 55898499798804488832753462940949206642493778847148317416904998229269195983409\n",
      "Alice的公钥: (23902350511451714540364028943910366097812699939461119676210124734906454002287 : 100485110899025638489213173587936538337779141155341146876203128401256590830970 : 1)\n",
      "\n",
      "Bob的私钥: 71883399351671030416010748534747635733620426530252990108813708629349728727809\n",
      "Bob的公钥: (87624283845420109320647739917081154616242789728366260515882516388460531246120 : 63207787330009166184473323616312703379230767419256264858582261867075191870947 : 1)\n",
      "\n",
      "Alice计算的共享密钥: 49933013216280283402865048943249369108555928374597778478837217606323810085793\n",
      "Bob计算的共享密钥: 49933013216280283402865048943249369108555928374597778478837217606323810085793\n",
      "共享密钥是否一致: True\n"
     ]
    }
   ],
   "source": [
    "def generate_keypair():\n",
    "    private_key = random.randint(1, G.order() - 1)\n",
    "    public_key = private_key * G\n",
    "    return private_key, public_key\n",
    "\n",
    "def compute_shared_secret(private_key, other_public_key):\n",
    "    shared_point = private_key * other_public_key\n",
    "    shared_secret = shared_point[0]  \n",
    "    return shared_secret\n",
    "\n",
    "# Alice生成密钥对\n",
    "alice_private, alice_public = generate_keypair()\n",
    "print(f\"Alice的私钥: {alice_private}\")\n",
    "print(f\"Alice的公钥: {alice_public}\")\n",
    "\n",
    "# Bob生成密钥对\n",
    "bob_private, bob_public = generate_keypair()\n",
    "print(f\"\\nBob的私钥: {bob_private}\")\n",
    "print(f\"Bob的公钥: {bob_public}\")\n",
    "\n",
    "# Alice计算共享密钥\n",
    "alice_shared = compute_shared_secret(alice_private, bob_public)\n",
    "print(f\"\\nAlice计算的共享密钥: {alice_shared}\")\n",
    "\n",
    "# Bob计算共享密钥\n",
    "bob_shared = compute_shared_secret(bob_private, alice_public)\n",
    "print(f\"Bob计算的共享密钥: {bob_shared}\")\n",
    "\n",
    "print(f\"共享密钥是否一致: {alice_shared == bob_shared}\")"
   ]
  },
  {
   "cell_type": "markdown",
   "id": "d02e9cec",
   "metadata": {},
   "source": [
    "# 测试"
   ]
  },
  {
   "cell_type": "code",
   "execution_count": 22,
   "id": "181bcf80",
   "metadata": {},
   "outputs": [
    {
     "name": "stdout",
     "output_type": "stream",
     "text": [
      "Alice的私钥: 65537\n",
      "Alice的公钥: (11849740311970813061251866619377318194422684910211998295454231065277556759479, 41177557732807933106412093593072366836582086536891432954584462402740857191652)\n",
      "\n",
      "Bob的私钥: 4294967296\n",
      "Bob的公钥: (57845546284519137759868071879580864747474048681904255205518830050186748385603, 104300214627605143922035278089265480928211230602089785806215194357861799731457)\n",
      "\n",
      "Alice计算的共享密钥: 27789339966828980564115416551894358796676365996850021724102056751057065485141\n",
      "Bob计算的共享密钥: 27789339966828980564115416551894358796676365996850021724102056751057065485141\n",
      "共享密钥是否一致: True\n"
     ]
    }
   ],
   "source": [
    "p = 0xFFFFFFFF00000001000000000000000000000000FFFFFFFFFFFFFFFFFFFFFFFF\n",
    "a = 0xFFFFFFFF00000001000000000000000000000000FFFFFFFFFFFFFFFFFFFFFFFC\n",
    "b = 0x5AC635D8AA3A93E7B3EBBD55769886BC651D06B0CC53B0F63BCE3C3E27D2604B\n",
    "Gx = 0x6B17D1F2E12C4247F8BCE6E563A440F277037D812DEB33A0F4A13945D898C296\n",
    "Gy = 0x4FE342E2FE1A7F9B8EE7EB4A7C0F9E162BCE33576B315ECECBB6406837BF51F5\n",
    "n = 0xFFFFFFFF00000000FFFFFFFFFFFFFFFFBCE6FAADA7179E84F3B9CAC2FC632551\n",
    "\n",
    "E = EllipticCurve(GF(p), [a, b])\n",
    "G = E(Gx, Gy) \n",
    "\n",
    "def generate_keypair_(private_key):\n",
    "    public_key = private_key * G\n",
    "    return private_key, public_key\n",
    "\n",
    "def compute_shared_secret_(private_key, other_public_key):\n",
    "    shared_point = private_key * other_public_key\n",
    "    shared_secret = shared_point[0]  # 取第一个\n",
    "    return shared_secret\n",
    "\n",
    "alice_private, alice_public = generate_keypair_(65537)\n",
    "print(f\"Alice的私钥: {alice_private}\")\n",
    "print(f\"Alice的公钥: ({alice_public[0]}, {alice_public[1]})\")\n",
    "\n",
    "bob_private = 2**32\n",
    "bob_public = generate_keypair_(bob_private)[1]\n",
    "print(f\"\\nBob的私钥: {bob_private}\")\n",
    "print(f\"Bob的公钥: ({bob_public[0]}, {bob_public[1]})\")\n",
    "\n",
    "alice_shared = compute_shared_secret_(alice_private, bob_public)\n",
    "print(f\"\\nAlice计算的共享密钥: {alice_shared}\")\n",
    "\n",
    "bob_shared = compute_shared_secret_(bob_private, alice_public)\n",
    "print(f\"Bob计算的共享密钥: {bob_shared}\")\n",
    "\n",
    "print(f\"共享密钥是否一致: {alice_shared == bob_shared}\")"
   ]
  }
 ],
 "metadata": {
  "kernelspec": {
   "display_name": "SageMath 9.3",
   "language": "sage",
   "name": "sagemath"
  },
  "language_info": {
   "codemirror_mode": {
    "name": "ipython",
    "version": 3
   },
   "file_extension": ".py",
   "mimetype": "text/x-python",
   "name": "python",
   "nbconvert_exporter": "python",
   "pygments_lexer": "ipython3",
   "version": "3.7.10"
  }
 },
 "nbformat": 4,
 "nbformat_minor": 5
}
