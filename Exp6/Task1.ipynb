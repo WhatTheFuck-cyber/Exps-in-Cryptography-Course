{
 "cells": [
  {
   "cell_type": "code",
   "execution_count": 211,
   "id": "291958e0",
   "metadata": {},
   "outputs": [],
   "source": [
    "import math"
   ]
  },
  {
   "cell_type": "code",
   "execution_count": 212,
   "id": "4f12ea8a",
   "metadata": {},
   "outputs": [],
   "source": [
    "# 扩展欧几里得算法\n",
    "def ex_gcd(a, b): # a >= b\n",
    "    \"\"\" \n",
    "    输入：整数 𝑎≥𝑏>0\n",
    "    输出：(d=gcd(a, b),X,Y)=gcd(a,b), Xa+Yb=d\n",
    "    \"\"\"\n",
    "\n",
    "    if b == 0:\n",
    "        return a, 1, 0\n",
    "    else:\n",
    "        r1, r2 = a, b\n",
    "        X1, X2 = 1, 0\n",
    "        Y1, Y2 = 0, 1\n",
    "        while r2 != 0:\n",
    "            q = r1 // r2\n",
    "            r1, r2 = r2, r1 - q * r2\n",
    "            X1, X2 = X2, X1 - q * X2 \n",
    "            Y1, Y2 = Y2, Y1 - q * Y2\n",
    "        return r1, X1, Y1\n",
    "def inv(a, m):\n",
    "    if a >= m:\n",
    "        d, x, y = ex_gcd(a, m)\n",
    "    else: d, y, x = ex_gcd(m, a) \n",
    "    if d != 1: return None\n",
    "    else: return x % m   \n",
    "d, x, y = ex_gcd(9, 3)\n",
    "# print(d, x, y)  "
   ]
  },
  {
   "cell_type": "code",
   "execution_count": 213,
   "id": "510a1a90",
   "metadata": {},
   "outputs": [],
   "source": [
    "def Karatsuba(x,y):\n",
    "    if (len(str(x))) < 2 or (len(str(y))) < 2:\n",
    "        return x*y\n",
    "    else:\n",
    "        #m这里不确定是否可以任意设置（实际上可以是任意正整数，对于长整数，为了便于计算，通常设置为较长整数宽度的一半）\n",
    "        m=max(len(str(x)),len(str(y))) // 2\n",
    "        x1=x//int(pow(10,m))\n",
    "        x0=x-x1*int(pow(10,m))\n",
    "        y1 =y//int(pow(10, m))\n",
    "        y0=y-y1*int(pow(10,m))\n",
    "        z2 = Karatsuba(x1,y1)\n",
    "        z0 = Karatsuba(x0,y0)\n",
    "        z1 = Karatsuba((x1 + x0), (y1 + y0)) - z2 - z0\n",
    "        return z2 * pow(10,2*m) + z1 * pow(10,m) + z0\n"
   ]
  },
  {
   "cell_type": "code",
   "execution_count": 214,
   "id": "9fb05f1b",
   "metadata": {},
   "outputs": [],
   "source": [
    "def get_R(N):\n",
    "    k = math.ceil(math.log2(N + 1))\n",
    "    R = 1 << k\n",
    "    return R\n",
    "\n",
    "def get_N_pie(N, R):\n",
    "    N_inv = inv(N, R)\n",
    "   \n",
    "    N_p = (-N_inv) % R\n",
    "    return N_p\n",
    "\n",
    "def Mont(x, y, N):\n",
    "    R = get_R(N)\n",
    "    N_p = get_N_pie(N, R)\n",
    "    \n",
    "    x_hat = (Karatsuba(x, R)) % N\n",
    "    y_hat = (Karatsuba(y, R)) % N\n",
    "    z = (x_hat * y_hat) % (R * N)\n",
    "    result_hat = Mont_change(z, N, R, N_p)\n",
    "    return Mont_change(result_hat, N, R, N_p)\n",
    "\n",
    "def Mont_change(x, N, R, N_p):\n",
    "    m = (Karatsuba(x, N_p)) % R\n",
    "    t = (x + Karatsuba(m, N_p)) // R\n",
    "    if t >= N:\n",
    "        t -= N\n",
    "    return t\n",
    "# a = 1234567\n",
    "# b = 7654321\n",
    "# N = 1234567891\n",
    "\n",
    "# result = Mont(a, b, N)\n",
    "# print(result)"
   ]
  },
  {
   "cell_type": "code",
   "execution_count": null,
   "id": "bce3d111",
   "metadata": {},
   "outputs": [],
   "source": [
    "def R2L(x, e, N):\n",
    "    \"\"\"\n",
    "    输入：底数 x, 指数 e > 0, 模数 N\n",
    "    输出：𝑦 ← x ^ e  mod N\n",
    "    \"\"\"\n",
    "    y, t = 1, x\n",
    "    k = math.ceil(math.log2(e)) if e % 2 != 0 else (e // 2) + 1\n",
    "    for i in range(k):\n",
    "        if (e >> i) & 0b1 == 1:\n",
    "            y = Mont(y, t, N)\n",
    "           \n",
    "        t = Mont(t, t, N)\n",
    "    return y\n",
    "# print(R2L(3, 4, 3))"
   ]
  },
  {
   "cell_type": "code",
   "execution_count": null,
   "id": "f5bbb083",
   "metadata": {},
   "outputs": [
    {
     "name": "stdout",
     "output_type": "stream",
     "text": [
      "True\n"
     ]
    }
   ],
   "source": [
    "def L2R(x, e, N):\n",
    "    \"\"\"\n",
    "    输入：底数 x, 指数 e > 0, 模数 N\n",
    "    输出：𝑦 ← x ^ e  mod N\n",
    "    \"\"\"\n",
    "    y = 1\n",
    "    k = math.ceil(math.log2(e + 1))\n",
    "    for i in range(k-1, -1, -1):\n",
    "        y = (y * y) % N\n",
    "        if (e >> i) & 0b1 == 1:\n",
    "            y = (y * x) % N\n",
    "            #print(y)\n",
    "    return y\n",
    "c = 1\n",
    "for i in range(1, 12):\n",
    "    y = L2R(i, 6, 3)\n",
    "    if y != (i ** 6) % 3:\n",
    "        c = 0\n",
    "        break\n",
    "print(c==1)"
   ]
  },
  {
   "cell_type": "code",
   "execution_count": null,
   "id": "a82903b8",
   "metadata": {},
   "outputs": [
    {
     "ename": "KeyboardInterrupt",
     "evalue": "",
     "output_type": "error",
     "traceback": [
      "\u001b[1;31m---------------------------------------------------------------------------\u001b[0m",
      "\u001b[1;31mKeyboardInterrupt\u001b[0m                         Traceback (most recent call last)",
      "\u001b[1;31mKeyboardInterrupt\u001b[0m: "
     ]
    }
   ],
   "source": [
    "N = 9362401673895901382264903610523354601456852099226312665898567072098392891520913328993655625175656383592959651404974082331578282250033937538127122420354679\n",
    "x = 8692781202237292463746262155979997292022367028219872905192201661495618217503909930450955848906198338649019561998150890645094316701449238319817934689890013\n",
    "e1 = 65537\n",
    "X = (x ** e1) % N\n",
    "print(\"R2L: \",R2L(x, e1, N) == X)\n",
    "print(\"L2R: \",L2R(x, e1, N) == X)"
   ]
  }
 ],
 "metadata": {
  "kernelspec": {
   "display_name": "base",
   "language": "python",
   "name": "python3"
  },
  "language_info": {
   "codemirror_mode": {
    "name": "ipython",
    "version": 3
   },
   "file_extension": ".py",
   "mimetype": "text/x-python",
   "name": "python",
   "nbconvert_exporter": "python",
   "pygments_lexer": "ipython3",
   "version": "3.12.4"
  }
 },
 "nbformat": 4,
 "nbformat_minor": 5
}
