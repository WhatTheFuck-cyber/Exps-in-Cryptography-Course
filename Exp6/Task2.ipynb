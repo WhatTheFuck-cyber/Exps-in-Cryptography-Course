{
 "cells": [
  {
   "cell_type": "markdown",
   "id": "147aa9e9",
   "metadata": {},
   "source": [
    "# ====--------任务二--第一组--------==== #"
   ]
  },
  {
   "cell_type": "code",
   "execution_count": 1,
   "id": "12719dd3",
   "metadata": {},
   "outputs": [],
   "source": [
    "p = (1 << 31) - 1\n",
    "q = (1 << 61) - 1"
   ]
  },
  {
   "cell_type": "code",
   "execution_count": 2,
   "id": "aeaffa7e",
   "metadata": {},
   "outputs": [],
   "source": [
    "def is_prime(n: int) -> bool:\n",
    "    \"\"\"判断是否为素数\"\"\"\n",
    "    if n <= 1:\n",
    "        return False\n",
    "    if n == 2:\n",
    "        return True\n",
    "    if n % 2 == 0:\n",
    "        return False\n",
    "    max_divisor = int(n ** 0.5) + 1\n",
    "    for i in range(3, max_divisor, 2):\n",
    "        if n % i == 0:\n",
    "            return False\n",
    "    return True"
   ]
  },
  {
   "cell_type": "code",
   "execution_count": 3,
   "id": "c238a7c8",
   "metadata": {},
   "outputs": [
    {
     "name": "stdout",
     "output_type": "stream",
     "text": [
      "验证 2^31 - 1 是否为素数： True\n",
      "验证 2^61 - 1 是否为素数： True\n"
     ]
    }
   ],
   "source": [
    "print(\"验证 2^31 - 1 是否为素数：\", is_prime(p) == True)\n",
    "print(\"验证 2^61 - 1 是否为素数：\", is_prime(q) == True)"
   ]
  },
  {
   "cell_type": "code",
   "execution_count": 4,
   "id": "605e5026",
   "metadata": {},
   "outputs": [],
   "source": [
    "import random\n",
    "\n",
    "def gcd(a: int, b: int) -> int:\n",
    "    a = abs(a)\n",
    "    b = abs(b)\n",
    "    if a == 0:\n",
    "        return b\n",
    "    if b == 0:\n",
    "        return a\n",
    "    while b != 0:\n",
    "        a, b = b, a % b\n",
    "    return a\n",
    "\n",
    "def random_element_from_multiplicative_group(n: int) -> int:\n",
    "    \"\"\"从模n的乘法群（Z*n）中随机选取一个元素\"\"\"\n",
    "    if n <= 1:\n",
    "        raise ValueError(\"模数必须大于1\")\n",
    "    \n",
    "    top = 100\n",
    "    times = 0\n",
    "    while times < top:\n",
    "        candidate = random.randint(1, n - 1)\n",
    "        if gcd(candidate, n) == 1:\n",
    "            return candidate\n",
    "    print(\"取值失败\")"
   ]
  },
  {
   "cell_type": "code",
   "execution_count": 5,
   "id": "990dc18c",
   "metadata": {},
   "outputs": [
    {
     "name": "stdout",
     "output_type": "stream",
     "text": [
      "从 Z*p 中随机取的元素为： 374748896\n",
      "从 Z*q 中随机取的元素为： 2075071169903309045\n"
     ]
    }
   ],
   "source": [
    "ele_p = random_element_from_multiplicative_group(p)\n",
    "ele_q = random_element_from_multiplicative_group(q)\n",
    "print(\"从 Z*p 中随机取的元素为：\", ele_p)\n",
    "print(\"从 Z*q 中随机取的元素为：\", ele_q)"
   ]
  },
  {
   "cell_type": "code",
   "execution_count": 6,
   "id": "1a25d39c",
   "metadata": {},
   "outputs": [],
   "source": [
    "def extended_gcd(a: int, b: int) -> tuple[int, int, int]:\n",
    "    \"\"\"扩展欧几里得算法，计算 gcd(a, b) 以及满足 ax + by = gcd(a, b) 的系数 x 和 y\"\"\"\n",
    "    if b == 0:\n",
    "        return (a, 1, 0)\n",
    "    else:\n",
    "        g, x, y = extended_gcd(b, a % b)\n",
    "        return (g, y, x - (a // b) * y)\n",
    "\n",
    "def chinese_remainder_theorem(p: int, q: int, ele_p: int, ele_q: int) -> int:\n",
    "    \"\"\"中国剩余定理求解函数\"\"\"\n",
    "    ele_p = ele_p % p\n",
    "    ele_q = ele_q % q\n",
    "    g, m, n = extended_gcd(q, p)\n",
    "    if g != 1:\n",
    "        raise ValueError(\"p和q必须互质\")\n",
    "    q_inv_mod_p = m % p\n",
    "    g, m, n = extended_gcd(p, q)\n",
    "    if g != 1:\n",
    "        raise ValueError(\"p和q必须互质\")\n",
    "    p_inv_mod_q = m % q\n",
    "    x = (ele_p * q * q_inv_mod_p + ele_q * p * p_inv_mod_q) % (p * q)\n",
    "    return x"
   ]
  },
  {
   "cell_type": "code",
   "execution_count": 7,
   "id": "f1e94ba8",
   "metadata": {},
   "outputs": [
    {
     "name": "stdout",
     "output_type": "stream",
     "text": [
      "手写函数求得的解为：x = 77293988037011695380345818 mod 4951760154835678088235319297\n"
     ]
    }
   ],
   "source": [
    "res = chinese_remainder_theorem(p, q, ele_p, ele_q)\n",
    "print(f\"手写函数求得的解为：x = {res} mod {p * q}\")"
   ]
  },
  {
   "cell_type": "code",
   "execution_count": 9,
   "id": "3f1efe5d",
   "metadata": {},
   "outputs": [
    {
     "name": "stdout",
     "output_type": "stream",
     "text": [
      "使用标准库计算得到的解为: x ≡ 77293988037011695380345818 mod 4951760154835678088235319297\n"
     ]
    }
   ],
   "source": [
    "# 这个 sympy 库里的 crt模块与 SageMath 里的 crt 功能一致\n",
    "from sympy.ntheory.modular import crt\n",
    "\n",
    "remainders = [ele_p, ele_q]  \n",
    "moduli = [p, q]      \n",
    "\n",
    "result, mod = crt(moduli, remainders)\n",
    "print(f\"使用标准库计算得到的解为: x ≡ {result} mod {mod}\")  "
   ]
  },
  {
   "cell_type": "code",
   "execution_count": 10,
   "id": "31ce4db8",
   "metadata": {},
   "outputs": [
    {
     "name": "stdout",
     "output_type": "stream",
     "text": [
      "校验通过\n"
     ]
    }
   ],
   "source": [
    "if res == result:\n",
    "    print(\"校验通过\")\n",
    "else:\n",
    "    print(\"校验未通过\")"
   ]
  },
  {
   "cell_type": "markdown",
   "id": "a0d0dbcc",
   "metadata": {},
   "source": [
    "# ====--------任务二--第二组--------==== #"
   ]
  },
  {
   "cell_type": "code",
   "execution_count": 11,
   "id": "307afb42",
   "metadata": {},
   "outputs": [
    {
     "name": "stdout",
     "output_type": "stream",
     "text": [
      "验证 0x7fffffd8001 是否为素数： True\n",
      "验证 0x7fffffc8001 是否为素数： True\n",
      "验证 0xfffffffc001 是否为素数： True\n",
      "验证 0xffffff6c001 是否为素数： True\n",
      "验证 0xfffffebc001 是否为素数： True\n"
     ]
    }
   ],
   "source": [
    "P = [0x7fffffd8001, 0x7fffffc8001, 0xfffffffc001, 0xffffff6c001, 0xfffffebc001]\n",
    "\n",
    "print(\"验证 0x7fffffd8001 是否为素数：\", is_prime(P[0]) == True)\n",
    "print(\"验证 0x7fffffc8001 是否为素数：\", is_prime(P[1]) == True)\n",
    "print(\"验证 0xfffffffc001 是否为素数：\", is_prime(P[2]) == True)\n",
    "print(\"验证 0xffffff6c001 是否为素数：\", is_prime(P[3]) == True)\n",
    "print(\"验证 0xfffffebc001 是否为素数：\", is_prime(P[4]) == True)"
   ]
  },
  {
   "cell_type": "markdown",
   "id": "4b967883",
   "metadata": {},
   "source": [
    "### ==----CRT正向变换----== ###"
   ]
  },
  {
   "cell_type": "code",
   "execution_count": 12,
   "id": "17e3a904",
   "metadata": {},
   "outputs": [],
   "source": [
    "def mod_inverse(a: int, p: int) -> int:\n",
    "    \"\"\"计算整数 a 在模 p 下的乘法逆元\"\"\"\n",
    "    a = a % p\n",
    "    old_r, r = a, p\n",
    "    old_s, s = 1, 0\n",
    "    old_t, t = 0, 1\n",
    "    while r != 0:\n",
    "        quotient = old_r // r\n",
    "        old_r, r = r, old_r - quotient * r\n",
    "        old_s, s = s, old_s - quotient * s\n",
    "        old_t, t = t, old_t - quotient * t\n",
    "    gcd_result = old_r\n",
    "    if gcd_result != 1:\n",
    "        raise ValueError(f\"逆元不存在，因为 gcd({a}, {p}) = {gcd_result}\")\n",
    "    return old_s % p"
   ]
  },
  {
   "cell_type": "code",
   "execution_count": 13,
   "id": "7a4ecb44",
   "metadata": {},
   "outputs": [
    {
     "name": "stdout",
     "output_type": "stream",
     "text": [
      "从 Z*8796092858369 中随机取的元素为： 4710851067614\n",
      "从 Z*8796092792833 中随机取的元素为： 3314214691814\n",
      "从 Z*17592186028033 中随机取的元素为： 6226271223395\n",
      "从 Z*17592185438209 中随机取的元素为： 4190853875178\n",
      "从 Z*17592184717313 中随机取的元素为： 2649188608357\n"
     ]
    }
   ],
   "source": [
    "X = [0, 0, 0, 0, 0]\n",
    "for i in range(5):\n",
    "    X[i] = random_element_from_multiplicative_group(P[i])\n",
    "    print(f\"从 Z*{P[i]} 中随机取的元素为：\", X[i])"
   ]
  },
  {
   "cell_type": "code",
   "execution_count": 14,
   "id": "7814b045",
   "metadata": {},
   "outputs": [
    {
     "name": "stdout",
     "output_type": "stream",
     "text": [
      "M 校验成功\n",
      "Inv_M 校验成功\n"
     ]
    }
   ],
   "source": [
    "N = P[0] * P[1] * P[2] * P[3] * P[4]\n",
    "M = [\n",
    "    P[1] * P[2] * P[3] * P[4], P[0] * P[2] * P[3] * P[4], P[0] * P[1] * P[3] * P[4], P[0] * P[1] * P[2] * P[4], P[0] * P[1] * P[2] * P[3]\n",
    "    ]\n",
    "Inv_M = [0, 0, 0, 0, 0]\n",
    "for i in range(5):\n",
    "    if P[i] * M[i] != N:\n",
    "        raise ValueError(\"M 校验失败\")\n",
    "print(\"M 校验成功\")\n",
    "\n",
    "for i in range(5):\n",
    "    Inv_M[i] = mod_inverse(M[i], P[i])\n",
    "    \n",
    "for i in range(5):\n",
    "    if Inv_M[i] != pow(M[i], -1, P[i]):\n",
    "        raise ValueError(\"Inv_M 校验失败\")\n",
    "print(\"Inv_M 校验成功\")"
   ]
  },
  {
   "cell_type": "code",
   "execution_count": 15,
   "id": "27c2f0d9",
   "metadata": {},
   "outputs": [
    {
     "name": "stdout",
     "output_type": "stream",
     "text": [
      "手写函数计算结果为： 399444177528579132939443747000962146189636177958820669149303353840\n"
     ]
    }
   ],
   "source": [
    "x = 0\n",
    "for i in range(5):\n",
    "    x += (X[i] * M[i]) * Inv_M[i]\n",
    "x = x % N\n",
    "print(\"手写函数计算结果为：\", x)"
   ]
  },
  {
   "cell_type": "code",
   "execution_count": 16,
   "id": "93500b91",
   "metadata": {},
   "outputs": [
    {
     "name": "stdout",
     "output_type": "stream",
     "text": [
      "使用标准库计算得到的解为: x ≡ 399444177528579132939443747000962146189636177958820669149303353840\n"
     ]
    }
   ],
   "source": [
    "# 这个 sympy 库里的 crt模块与 SageMath 里的 crt 功能一致\n",
    "from sympy.ntheory.modular import crt\n",
    "\n",
    "remainders = X\n",
    "moduli = P    \n",
    "\n",
    "result_std, mod_std = crt(moduli, remainders)\n",
    "print(f\"使用标准库计算得到的解为: x ≡ {result_std}\")  "
   ]
  },
  {
   "cell_type": "code",
   "execution_count": 17,
   "id": "21e3e6bb",
   "metadata": {},
   "outputs": [
    {
     "name": "stdout",
     "output_type": "stream",
     "text": [
      "CRT正向变换校验通过\n"
     ]
    }
   ],
   "source": [
    "if x == result_std:\n",
    "    print(\"CRT正向变换校验通过\")\n",
    "else:\n",
    "    print(\"CRT正向校验未通过\")"
   ]
  },
  {
   "cell_type": "markdown",
   "id": "bdf6e978",
   "metadata": {},
   "source": [
    "### ==----CRT逆向变换----== ###"
   ]
  },
  {
   "cell_type": "code",
   "execution_count": 18,
   "id": "d23fd14e",
   "metadata": {},
   "outputs": [],
   "source": [
    "N_ = P[0] * P[1] * P[2] * P[3] * P[4]\n",
    "x_ = random_element_from_multiplicative_group(N_)\n",
    "X_ = [0, 0, 0, 0, 0]"
   ]
  },
  {
   "cell_type": "code",
   "execution_count": 19,
   "id": "b37cf276",
   "metadata": {},
   "outputs": [
    {
     "name": "stdout",
     "output_type": "stream",
     "text": [
      "手写的逆向x0为： 852259388747\n",
      "手写的逆向x1为： 3006530703674\n",
      "手写的逆向x2为： 14627691818775\n",
      "手写的逆向x3为： 17554529291493\n",
      "手写的逆向x4为： 11092572945113\n",
      "随机生成的x为： 345201157169945667684117765066905423209279513651580104815753310241\n"
     ]
    }
   ],
   "source": [
    "for i in range(5):\n",
    "    X_[i] = x_ % P[i]\n",
    "    print(f\"手写的逆向x{i}为：\", X_[i])\n",
    "print(\"随机生成的x为：\", x_)"
   ]
  },
  {
   "cell_type": "code",
   "execution_count": 20,
   "id": "22742cea",
   "metadata": {},
   "outputs": [
    {
     "name": "stdout",
     "output_type": "stream",
     "text": [
      "使用标准库计算得到的解为: x ≡ 345201157169945667684117765066905423209279513651580104815753310241\n"
     ]
    }
   ],
   "source": [
    "# 这个 sympy 库里的 crt模块与 SageMath 里的 crt 功能一致\n",
    "from sympy.ntheory.modular import crt\n",
    "\n",
    "remainders = X_\n",
    "moduli = P    \n",
    "\n",
    "result_std_, mod_std_ = crt(moduli, remainders)\n",
    "print(f\"使用标准库计算得到的解为: x ≡ {result_std_}\")  "
   ]
  },
  {
   "cell_type": "code",
   "execution_count": 21,
   "id": "d4f7beab",
   "metadata": {},
   "outputs": [
    {
     "name": "stdout",
     "output_type": "stream",
     "text": [
      "CRT逆向变换校验通过\n"
     ]
    }
   ],
   "source": [
    "if x_ == result_std_:\n",
    "    print(\"CRT逆向变换校验通过\")\n",
    "else:\n",
    "    print(\"CRT逆向校验未通过\")"
   ]
  }
 ],
 "metadata": {
  "kernelspec": {
   "display_name": "Cryptograpy",
   "language": "python",
   "name": "python3"
  },
  "language_info": {
   "codemirror_mode": {
    "name": "ipython",
    "version": 3
   },
   "file_extension": ".py",
   "mimetype": "text/x-python",
   "name": "python",
   "nbconvert_exporter": "python",
   "pygments_lexer": "ipython3",
   "version": "3.10.16"
  }
 },
 "nbformat": 4,
 "nbformat_minor": 5
}
