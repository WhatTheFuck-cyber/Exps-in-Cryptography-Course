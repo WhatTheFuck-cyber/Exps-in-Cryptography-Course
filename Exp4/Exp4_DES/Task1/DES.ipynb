{
 "cells": [
  {
   "cell_type": "markdown",
   "id": "1d0a8060",
   "metadata": {},
   "source": [
    "# 本文件实现 DES\n",
    "\n",
    "请启动 `SageMath NoteBook` 服务。如需使用 `Python NoteBook` 服务，请将下面代码中的 `^^` 替换成 `^` （异或）。"
   ]
  },
  {
   "cell_type": "markdown",
   "id": "37d16246",
   "metadata": {},
   "source": [
    "### DES系列的置换与常量"
   ]
  },
  {
   "cell_type": "code",
   "execution_count": 1,
   "id": "e4a2de1a",
   "metadata": {
    "vscode": {
     "languageId": "python"
    }
   },
   "outputs": [],
   "source": [
    "# —— 置换与常量表 —— #\n",
    "IP  = [58,50,42,34,26,18,10,2, 60,52,44,36,28,20,12,4,\n",
    "       62,54,46,38,30,22,14,6, 64,56,48,40,32,24,16,8,\n",
    "       57,49,41,33,25,17,9,1,  59,51,43,35,27,19,11,3,\n",
    "       61,53,45,37,29,21,13,5, 63,55,47,39,31,23,15,7]\n",
    "\n",
    "FP  = [40,8,48,16,56,24,64,32, 39,7,47,15,55,23,63,31,\n",
    "       38,6,46,14,54,22,62,30, 37,5,45,13,53,21,61,29,\n",
    "       36,4,44,12,52,20,60,28, 35,3,43,11,51,19,59,27,\n",
    "       34,2,42,10,50,18,58,26, 33,1,41,9,49,17,57,25]\n",
    "\n",
    "E   = [32,1,2,3,4,5, 4,5,6,7,8,9, 8,9,10,11,12,13,\n",
    "       12,13,14,15,16,17, 16,17,18,19,20,21,\n",
    "       20,21,22,23,24,25, 24,25,26,27,28,29,\n",
    "       28,29,30,31,32,1]\n",
    "\n",
    "P   = [16,7,20,21,29,12,28,17,\n",
    "       1,15,23,26,5,18,31,10,\n",
    "       2,8,24,14,32,27,3,9,\n",
    "       19,13,30,6,22,11,4,25]\n",
    "\n",
    "PC1 = [57,49,41,33,25,17,9,\n",
    "       1,58,50,42,34,26,18,\n",
    "       10,2,59,51,43,35,27,\n",
    "       19,11,3,60,52,44,36,\n",
    "       63,55,47,39,31,23,15,\n",
    "       7,62,54,46,38,30,22,\n",
    "       14,6,61,53,45,37,29,\n",
    "       21,13,5,28,20,12,4]\n",
    "\n",
    "PC2 = [14,17,11,24,1,5,3,28,\n",
    "       15,6,21,10,23,19,12,4,\n",
    "       26,8,16,7,27,20,13,2,\n",
    "       41,52,31,37,47,55,30,40,\n",
    "       51,45,33,48,44,49,39,56,\n",
    "       34,53,46,42,50,36,29,32]\n",
    "\n",
    "# 每轮左移位数\n",
    "SHIFT = [1,1,2,2,2,2,2,2,1,2,2,2,2,2,2,1]\n",
    "\n",
    "# 8 个 S-box\n",
    "SBOX = [\n",
    "[[14,4,13,1,2,15,11,8,3,10,6,12,5,9,0,7],\n",
    " [0,15,7,4,14,2,13,1,10,6,12,11,9,5,3,8],\n",
    " [4,1,14,8,13,6,2,11,15,12,9,7,3,10,5,0],\n",
    " [15,12,8,2,4,9,1,7,5,11,3,14,10,0,6,13]],\n",
    "\n",
    "[[15,1,8,14,6,11,3,4,9,7,2,13,12,0,5,10],\n",
    " [3,13,4,7,15,2,8,14,12,0,1,10,6,9,11,5],\n",
    " [0,14,7,11,10,4,13,1,5,8,12,6,9,3,2,15],\n",
    " [13,8,10,1,3,15,4,2,11,6,7,12,0,5,14,9]],\n",
    "\n",
    "[[10,0,9,14,6,3,15,5,1,13,12,7,11,4,2,8],\n",
    " [13,7,0,9,3,4,6,10,2,8,5,14,12,11,15,1],\n",
    " [13,6,4,9,8,15,3,0,11,1,2,12,5,10,14,7],\n",
    " [1,10,13,0,6,9,8,7,4,15,14,3,11,5,2,12]],\n",
    "\n",
    "[[7,13,14,3,0,6,9,10,1,2,8,5,11,12,4,15],\n",
    " [13,8,11,5,6,15,0,3,4,7,2,12,1,10,14,9],\n",
    " [10,6,9,0,12,11,7,13,15,1,3,14,5,2,8,4],\n",
    " [3,15,0,6,10,1,13,8,9,4,5,11,12,7,2,14]],\n",
    "\n",
    "[[2,12,4,1,7,10,11,6,8,5,3,15,13,0,14,9],\n",
    " [14,11,2,12,4,7,13,1,5,0,15,10,3,9,8,6],\n",
    " [4,2,1,11,10,13,7,8,15,9,12,5,6,3,0,14],\n",
    " [11,8,12,7,1,14,2,13,6,15,0,9,10,4,5,3]],\n",
    "\n",
    "[[12,1,10,15,9,2,6,8,0,13,3,4,14,7,5,11],\n",
    " [10,15,4,2,7,12,9,5,6,1,13,14,0,11,3,8],\n",
    " [9,14,15,5,2,8,12,3,7,0,4,10,1,13,11,6],\n",
    " [4,3,2,12,9,5,15,10,11,14,1,7,6,0,8,13]],\n",
    "\n",
    "[[4,11,2,14,15,0,8,13,3,12,9,7,5,10,6,1],\n",
    " [13,0,11,7,4,9,1,10,14,3,5,12,2,15,8,6],\n",
    " [1,4,11,13,12,3,7,14,10,15,6,8,0,5,9,2],\n",
    " [6,11,13,8,1,4,10,7,9,5,0,15,14,2,3,12]],\n",
    "\n",
    "[[13,2,8,4,6,15,11,1,10,9,3,14,5,0,12,7],\n",
    " [1,15,13,8,10,3,7,4,12,5,6,11,0,14,9,2],\n",
    " [7,11,4,1,9,12,14,2,0,6,10,13,15,3,5,8],\n",
    " [2,1,14,7,4,10,8,13,15,12,9,0,3,5,6,11]]\n",
    "]"
   ]
  },
  {
   "cell_type": "markdown",
   "id": "3f4d2361",
   "metadata": {},
   "source": [
    "### DES系列的工具函数"
   ]
  },
  {
   "cell_type": "code",
   "execution_count": 2,
   "id": "ae5b9791",
   "metadata": {
    "vscode": {
     "languageId": "python"
    }
   },
   "outputs": [],
   "source": [
    "# —— 工具函数 —— #\n",
    "def _permute(val, table, bits_in):\n",
    "    \"\"\"按给定置换表重新排列位。\"\"\"\n",
    "    out = 0\n",
    "    for pos in table:\n",
    "        out = (out << 1) | ((val >> (bits_in - pos)) & 1)\n",
    "    return out\n",
    "\n",
    "def _rotl(val, k, width=28):\n",
    "    \"\"\"循环左移 k 位（width-bit 宽度）。\"\"\"\n",
    "    return ((val << k) & ((1 << width) - 1)) | (val >> (width - k))\n",
    "\n",
    "# —— 密钥调度 —— #\n",
    "def _subkeys(key64):\n",
    "    \"\"\"生成 16 个 48-bit 子密钥。\"\"\"\n",
    "    key56 = _permute(key64, PC1, 64)\n",
    "    C, D = key56 >> 28, key56 & ((1 << 28) - 1)\n",
    "    K = []\n",
    "    for s in SHIFT:\n",
    "        C, D = _rotl(C, s), _rotl(D, s)\n",
    "        K.append(_permute((C << 28) | D, PC2, 56))\n",
    "    return K\n",
    "\n",
    "# —— Feistel F 函数 —— #\n",
    "def _F(R, Ki):\n",
    "    \"\"\"待完成\"\"\"\n",
    "    \"\"\"Feistel网络的F函数，实现扩展置换、与子密钥异或、S盒替换和P盒置换\"\"\"\n",
    "    expanded = _permute(R, E, 32)\n",
    "    xored = expanded ^^ Ki\n",
    "    \n",
    "    result = 0\n",
    "    for i in range(8):\n",
    "        block = (xored >> (42 - i*6)) & 0x3F\n",
    "        row = ((block >> 5) << 1) | (block & 1)\n",
    "        col = (block >> 1) & 0xF\n",
    "        s_output = SBOX[i][row][col]\n",
    "        result = (result << 4) | s_output\n",
    "\n",
    "    return _permute(result, P, 32)"
   ]
  },
  {
   "cell_type": "markdown",
   "id": "f6ebe1e8",
   "metadata": {},
   "source": [
    "### 单DES"
   ]
  },
  {
   "cell_type": "code",
   "execution_count": 3,
   "id": "328ffdb4",
   "metadata": {
    "vscode": {
     "languageId": "python"
    }
   },
   "outputs": [],
   "source": [
    "# —— 单块加/解密 —— #\n",
    "def _rounds(block, subkeys):\n",
    "    L, R = block >> 32, block & 0xFFFFFFFF\n",
    "    for K in subkeys:              \n",
    "        L, R = R, L ^^ _F(R, K)\n",
    "    return (R << 32) | L             \n",
    "\n",
    "def des_encrypt_block(plain64, key64):\n",
    "    \"\"\"ECB 单块加密\"\"\"\n",
    "    klist = _subkeys(key64)\n",
    "    pre   = _permute(plain64, IP, 64)\n",
    "    post  = _rounds(pre, klist)\n",
    "    return _permute(post, FP, 64)\n",
    "\n",
    "def des_decrypt_block(cipher64, key64):\n",
    "    \"\"\"ECB 单块解密（待完成）\"\"\"\n",
    "    klist = _subkeys(key64)\n",
    "    klist_reversed = klist[::-1]\n",
    "    pre   = _permute(cipher64, IP, 64)\n",
    "    post  = _rounds(pre, klist_reversed)\n",
    "    return _permute(post, FP, 64)"
   ]
  },
  {
   "cell_type": "markdown",
   "id": "7b65951a",
   "metadata": {},
   "source": [
    "### 单DES测试块"
   ]
  },
  {
   "cell_type": "code",
   "execution_count": 4,
   "id": "7d689535",
   "metadata": {
    "vscode": {
     "languageId": "python"
    }
   },
   "outputs": [
    {
     "name": "stdout",
     "output_type": "stream",
     "text": [
      "cipher = 0x85E813540F0AB405\n",
      "plaintext = 0x0123456789ABCDEF\n"
     ]
    }
   ],
   "source": [
    "KEY = 0x133457799BBCDFF1\n",
    "PT  = 0x0123456789ABCDEF          # plaintext\n",
    "CT  = des_encrypt_block(PT, KEY)  # cipher-text\n",
    "print(f'cipher = 0x{CT:016X}')\n",
    "DT  = des_decrypt_block(CT, KEY) \n",
    "print(f'plaintext = 0x{DT:016X}')"
   ]
  },
  {
   "cell_type": "markdown",
   "id": "acc5c229",
   "metadata": {},
   "source": [
    "任务一可使用这个测例：\n",
    "```sh\n",
    "KEY = 0x133457799BBCDFF1\n",
    "cipher = 0x85E813540F0AB405\n",
    "plaintext = 0x0123456789ABCDEF\n",
    "```\n",
    "\n",
    "如需核对其他的单DES加密结果，请[点击这里](https://www.toolhelper.cn/SymmetricEncryption/DES)\n",
    "{附：本例在该网站上的加密结果为85E813540F0AB405}\n",
    "\n",
    "注意：请选择DES中的ECB模式，填充模式选择'None'，（密钥长度只支持 64bits），并选择Hex以输入密钥和明文。"
   ]
  }
 ],
 "metadata": {
  "kernelspec": {
   "display_name": "SageMath 9.3",
   "language": "sage",
   "name": "sagemath"
  },
  "language_info": {
   "codemirror_mode": {
    "name": "ipython",
    "version": 3
   },
   "file_extension": ".py",
   "mimetype": "text/x-python",
   "name": "sage",
   "nbconvert_exporter": "python",
   "pygments_lexer": "ipython3",
   "version": "3.7.10"
  }
 },
 "nbformat": 4,
 "nbformat_minor": 5
}
